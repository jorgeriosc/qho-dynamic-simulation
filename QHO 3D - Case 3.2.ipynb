{
 "cells": [
  {
   "cell_type": "markdown",
   "id": "185cd413-b7ee-4fba-a33b-d987a6fcbe59",
   "metadata": {},
   "source": [
    "## 3D Isotropic Quantum Harmonic Oscillator - Dynamic Simulation\n",
    "### Case 3.2 - Expansion of Cartesian and Spherical Eigenstates\n",
    "\n",
    "<br>\n",
    "\n",
    "Static simulation of the expansion of:\n",
    "* cartesian eigenstate $\\psi_{0,1,2}(x,y,z)$ into spherical eigenstates $\\psi_{n,l}^{m}(r,\\theta,\\phi)$ ,\n",
    "* spherical eigenstate $\\psi_{0,2}^{-1}(r,\\theta,\\phi)$ into cartesian eigenstates $\\psi_{n_x,n_y,n_z}(x,y,z)$ ,\n",
    "\n",
    "that satisfy the condition $q = 2n + l = n_x + n_y + n_z$ .\n"
   ]
  },
  {
   "cell_type": "markdown",
   "id": "150301d1-3b0a-4514-b723-1500cf608503",
   "metadata": {},
   "source": [
    "#### Import libraries and functions\n"
   ]
  },
  {
   "cell_type": "code",
   "execution_count": 1,
   "id": "d2d4f899-bdc2-4501-ba3f-c83d3a03775c",
   "metadata": {},
   "outputs": [],
   "source": [
    "import math\n",
    "import numpy as np\n",
    "import matplotlib.pyplot as plt\n",
    "%config InlineBackend.figure_format = 'retina'\n",
    "\n",
    "import qho_eigen as qho\n",
    "from math_tools import *\n"
   ]
  },
  {
   "cell_type": "markdown",
   "id": "75b0b40c-9b97-433b-ac2d-4f8213e7baad",
   "metadata": {},
   "source": [
    "#### Initialize cartesian eigenstate $\\psi_{0,1,2}(x,y,z)$\n"
   ]
  },
  {
   "cell_type": "code",
   "execution_count": 2,
   "id": "e076bb01-3cc8-4a4b-9f67-4110ddf1630a",
   "metadata": {},
   "outputs": [],
   "source": [
    "# Define physical constants\n",
    "hbar = 1\n",
    "M = 2\n",
    "w = 1\n",
    "s = math.sqrt(2 * hbar / (M * w))\n",
    "\n",
    "# Set up coordinate system\n",
    "x_min = -4\n",
    "x_max = 4\n",
    "dx = 0.05\n",
    "x = np.linspace(x_min, x_max, int((x_max - x_min) / dx) + 1) # np.linspace handles edges better\n",
    "\n",
    "y_min = -4\n",
    "y_max = 4\n",
    "dy = 0.05\n",
    "y = np.linspace(y_min, y_max, int((y_max - y_min) / dy) + 1) # np.linspace handles edges better\n",
    "\n",
    "z_min = -4\n",
    "z_max = 4\n",
    "dz = 0.05\n",
    "z = np.linspace(z_min, z_max, int((z_max - z_min) / dz) + 1) # np.linspace handles edges better\n",
    "\n",
    "Y, Z, X = np.meshgrid(y, z, x) # This is because of NumPy's row-major order\n",
    "R, THETA, PHI = cart2sph(X, Y, Z)\n",
    "\n",
    "# Compute cartesian eigenstate\n",
    "nx = 0\n",
    "ny = 1\n",
    "nz = 2\n",
    "psi_cart = qho.eigen3D_cart(s, nx, ny, nz, X, Y, Z)\n"
   ]
  },
  {
   "cell_type": "markdown",
   "id": "6b48580f-9009-45bf-9938-4d77c668c478",
   "metadata": {},
   "source": [
    "#### Expand into spherical eigenstates $\\psi_{n,l}^{m}(r,\\theta,\\phi)$\n"
   ]
  },
  {
   "cell_type": "code",
   "execution_count": 3,
   "id": "ae9f2eab-77c0-49a4-9d4e-11cb652efb62",
   "metadata": {},
   "outputs": [
    {
     "name": "stdout",
     "output_type": "stream",
     "text": [
      "Expansion coefficients:\n",
      "n  1, l  1, m  -1 -> -0.000000-0.316228j\n",
      "n  1, l  1, m  0 -> -0.000000+0.000000j\n",
      "n  1, l  1, m  1 -> 0.000000-0.316228j\n",
      "n  0, l  3, m  -3 -> -0.000000+0.000000j\n",
      "n  0, l  3, m  -2 -> 0.000000+0.000000j\n",
      "n  0, l  3, m  -1 -> 0.000000+0.632456j\n",
      "n  0, l  3, m  0 -> 0.000000+0.000000j\n",
      "n  0, l  3, m  1 -> -0.000000+0.632456j\n",
      "n  0, l  3, m  2 -> -0.000000-0.000000j\n",
      "n  0, l  3, m  3 -> -0.000000+0.000000j\n",
      "\n",
      "Max abs error of spherical expansion = 1.3916090502164025e-12\n",
      "\n"
     ]
    }
   ],
   "source": [
    "# Compute spherical eigenstates\n",
    "N_sph = 10\n",
    "n = np.vstack(np.array([ 1,  1,  1,  0,  0,  0,  0,  0,  0,  0]), dtype=object)\n",
    "l = np.vstack(np.array([ 1,  1,  1,  3,  3,  3,  3,  3,  3,  3]), dtype=object)\n",
    "m = np.vstack(np.array([-1,  0,  1, -3, -2, -1,  0,  1,  2,  3]), dtype=object)\n",
    "eigenfuns_sph = np.zeros((N_sph, np.size(z), np.size(y), np.size(x)), dtype=np.complex128)\n",
    "\n",
    "for i in range(N_sph):\n",
    "    eigenfuns_sph[i] = qho.eigen3D_sph(s, n[i][0], l[i][0], m[i][0], R, THETA, PHI)\n",
    "\n",
    "# Compute expansion coefficients\n",
    "c = np.vstack(np.zeros((N_sph, 1)), dtype=np.complex128)\n",
    "\n",
    "for i in range(N_sph):\n",
    "    c[i] = np.trapz(np.trapz(np.trapz(np.conjugate(eigenfuns_sph[i]) * psi_cart, x=x, axis=2), x=y, axis=1), x=z)\n",
    "\n",
    "print('Expansion coefficients:')\n",
    "for i in range(N_sph): print(f'n  {n[i][0]}, l  {l[i][0]}, m  {m[i][0]} -> {c[i][0]:.6f}')\n",
    "print()\n",
    "\n",
    "# Reconstruct cartesian state\n",
    "psi_sph = np.sum(c[:, np.newaxis, np.newaxis] * eigenfuns_sph, axis=0)\n",
    "\n",
    "# Compute absolute error of spherical expansion\n",
    "print(f'Max abs error of spherical expansion = {np.max(np.abs(abs2(psi_cart) - abs2(psi_sph)))}')\n",
    "print()\n"
   ]
  },
  {
   "cell_type": "markdown",
   "id": "67208e6e-3f0e-4b2c-b60c-4a93ee422fb7",
   "metadata": {},
   "source": [
    "#### Initialize spherical eigenstate $\\psi_{0,2}^{-1}(r,\\theta,\\phi)$\n"
   ]
  },
  {
   "cell_type": "code",
   "execution_count": 4,
   "id": "5d269567-363b-4a2e-9409-f09a1bed9301",
   "metadata": {},
   "outputs": [],
   "source": [
    "# Define physical constants\n",
    "hbar = 1\n",
    "M = 2\n",
    "w = 1\n",
    "s = math.sqrt(2 * hbar / (M * w))\n",
    "\n",
    "# Set up coordinate system\n",
    "r_min = 0\n",
    "r_max = 6\n",
    "r_N = 201\n",
    "r = np.linspace(r_min, r_max, r_N)\n",
    "\n",
    "theta_min = 0\n",
    "theta_max = math.pi\n",
    "theta_N = 201\n",
    "theta = np.linspace(theta_min, theta_max, theta_N)\n",
    "\n",
    "phi_min = 0\n",
    "phi_max = 2 * math.pi\n",
    "phi_N = 201\n",
    "phi = np.linspace(phi_min, phi_max, phi_N)\n",
    "\n",
    "THETA, PHI, R = np.meshgrid(theta, phi, r) # This is because of NumPy's row-major order\n",
    "X, Y, Z = sph2cart(R, THETA, PHI)\n",
    "\n",
    "# Compute spherical eigenstates\n",
    "n = 0\n",
    "l = 2\n",
    "m = -1\n",
    "psi_sph = qho.eigen3D_sph(s, n, l, m, R, THETA, PHI)\n"
   ]
  },
  {
   "cell_type": "markdown",
   "id": "139701a4-4441-4486-bf7f-c84400511048",
   "metadata": {},
   "source": [
    "#### Expand into cartesian eigenstates $\\psi_{n_x,n_y,n_z}(x,y,z)$\n"
   ]
  },
  {
   "cell_type": "code",
   "execution_count": 5,
   "id": "7a274358-83ab-49fa-a976-cf17e487056a",
   "metadata": {},
   "outputs": [
    {
     "name": "stdout",
     "output_type": "stream",
     "text": [
      "Expansion coefficients:\n",
      "nx 1, ny 1, nz 0 -> 0.000000+0.000000j\n",
      "nx 1, ny 0, nz 1 -> 0.707107-0.000000j\n",
      "nx 0, ny 1, nz 1 -> 0.000000-0.707107j\n",
      "nx 2, ny 0, nz 0 -> -0.000000-0.000000j\n",
      "nx 0, ny 2, nz 0 -> 0.000000-0.000000j\n",
      "nx 0, ny 0, nz 2 -> 0.000000+0.000000j\n",
      "\n",
      "Max abs error of cartesian expansion = 1.0460517452237639e-09\n",
      "\n"
     ]
    }
   ],
   "source": [
    "# Compute cartesian eigenstates\n",
    "N_cart = 6\n",
    "nx = np.vstack(np.array([1, 1, 0, 2, 0, 0]), dtype=object)\n",
    "ny = np.vstack(np.array([1, 0, 1, 0, 2, 0]), dtype=object)\n",
    "nz = np.vstack(np.array([0, 1, 1, 0, 0, 2]), dtype=object)\n",
    "\n",
    "eigenfuns_cart = np.zeros((N_cart, np.size(phi), np.size(theta), np.size(r)))\n",
    "\n",
    "for i in range(N_cart):\n",
    "    eigenfuns_cart[i] = qho.eigen3D_cart(s, nx[i][0], ny[i][0], nz[i][0], X, Y, Z)\n",
    "\n",
    "# Compute expansion coefficients\n",
    "c = np.vstack(np.zeros((N_cart, 1)), dtype=np.complex128)\n",
    "\n",
    "for i in range(N_cart):\n",
    "    c[i] = np.trapz(np.trapz(np.trapz(np.conjugate(eigenfuns_cart[i]) * psi_sph * R**2 * np.sin(THETA), x=r, axis=2), x=theta, axis=1), x=phi)\n",
    "\n",
    "print('Expansion coefficients:')\n",
    "for i in range(N_cart): print(f'nx {nx[i][0]}, ny {ny[i][0]}, nz {nz[i][0]} -> {c[i][0]:.6f}')\n",
    "print()\n",
    "\n",
    "# Reconstruct spherical state\n",
    "psi_cart = np.sum(c[:, np.newaxis, np.newaxis] * eigenfuns_cart, axis=0)\n",
    "\n",
    "# Compute absolute error of cartesian expansion\n",
    "print(f'Max abs error of cartesian expansion = {np.max(np.abs(abs2(psi_sph) - abs2(psi_cart)))}')\n",
    "print()\n"
   ]
  },
  {
   "cell_type": "code",
   "execution_count": null,
   "id": "9d983a0e-bf57-42e6-9c07-e142944703ed",
   "metadata": {},
   "outputs": [],
   "source": []
  }
 ],
 "metadata": {
  "kernelspec": {
   "display_name": "Python 3 (ipykernel)",
   "language": "python",
   "name": "python3"
  },
  "language_info": {
   "codemirror_mode": {
    "name": "ipython",
    "version": 3
   },
   "file_extension": ".py",
   "mimetype": "text/x-python",
   "name": "python",
   "nbconvert_exporter": "python",
   "pygments_lexer": "ipython3",
   "version": "3.12.2"
  }
 },
 "nbformat": 4,
 "nbformat_minor": 5
}
